{
  "cells": [
    {
      "cell_type": "markdown",
      "metadata": {
        "id": "g08DO0sExMGd"
      },
      "source": [
        "# SQL Basics\n",
        "\n",
        "## Introduction\n",
        "\n",
        "This notebook is a short introduction to SQL. It is based on the [DuckDB](https://duckdb.org/) database engine.\n",
        "\n",
        "## Datasets\n",
        "\n",
        "The following datasets are used in this notebook. You don't need to download them, they can be accessed directly from the notebook.\n",
        "\n",
        "- [cities.csv](https://open.gishub.org/data/duckdb/cities.csv)\n",
        "- [countries.csv](https://open.gishub.org/data/duckdb/countries.csv)\n",
        "\n",
        "## References\n",
        "\n",
        "- [W3Schools SQL Tutorial](https://www.w3schools.com/sql)\n",
        "- [DuckDB SQL Introduction](https://duckdb.org/docs/sql/introduction.html)"
      ],
      "id": "g08DO0sExMGd"
    },
    {
      "cell_type": "markdown",
      "metadata": {
        "id": "VdjicmW0xMGf"
      },
      "source": [
        "## Installation\n",
        "\n",
        "Uncomment the following cell to install the required packages."
      ],
      "id": "VdjicmW0xMGf"
    },
    {
      "cell_type": "code",
      "execution_count": null,
      "metadata": {
        "id": "wslHFzkBxMGg",
        "outputId": "31ff4536-09bb-436c-9b32-db1e551daaf9"
      },
      "outputs": [
        {
          "name": "stdout",
          "output_type": "stream",
          "text": [
            "Requirement already satisfied: duckdb in /Users/ollieballinger/miniconda3/envs/geo/lib/python3.9/site-packages (0.9.2)\n",
            "Requirement already satisfied: duckdb-engine in /Users/ollieballinger/miniconda3/envs/geo/lib/python3.9/site-packages (0.10.0)\n",
            "Requirement already satisfied: jupysql in /Users/ollieballinger/miniconda3/envs/geo/lib/python3.9/site-packages (0.10.7)\n",
            "Requirement already satisfied: sqlalchemy>=1.3.22 in /Users/ollieballinger/miniconda3/envs/geo/lib/python3.9/site-packages (from duckdb-engine) (2.0.21)\n",
            "Requirement already satisfied: prettytable in /Users/ollieballinger/miniconda3/envs/geo/lib/python3.9/site-packages (from jupysql) (3.9.0)\n",
            "Requirement already satisfied: sqlparse in /Users/ollieballinger/miniconda3/envs/geo/lib/python3.9/site-packages (from jupysql) (0.4.4)\n",
            "Requirement already satisfied: ipython-genutils>=0.1.0 in /Users/ollieballinger/miniconda3/envs/geo/lib/python3.9/site-packages (from jupysql) (0.2.0)\n",
            "Requirement already satisfied: jinja2 in /Users/ollieballinger/miniconda3/envs/geo/lib/python3.9/site-packages (from jupysql) (3.0.3)\n",
            "Requirement already satisfied: sqlglot>=11.3.7 in /Users/ollieballinger/miniconda3/envs/geo/lib/python3.9/site-packages (from jupysql) (20.5.0)\n",
            "Requirement already satisfied: ploomber-core>=0.2.7 in /Users/ollieballinger/miniconda3/envs/geo/lib/python3.9/site-packages (from jupysql) (0.2.19)\n",
            "Requirement already satisfied: jupysql-plugin in /Users/ollieballinger/miniconda3/envs/geo/lib/python3.9/site-packages (from jupysql) (0.3.1)\n",
            "Requirement already satisfied: click in /Users/ollieballinger/miniconda3/envs/geo/lib/python3.9/site-packages (from ploomber-core>=0.2.7->jupysql) (8.1.3)\n",
            "Requirement already satisfied: pyyaml in /Users/ollieballinger/miniconda3/envs/geo/lib/python3.9/site-packages (from ploomber-core>=0.2.7->jupysql) (5.4.1)\n",
            "Requirement already satisfied: posthog in /Users/ollieballinger/miniconda3/envs/geo/lib/python3.9/site-packages (from ploomber-core>=0.2.7->jupysql) (3.1.0)\n",
            "Requirement already satisfied: typing-extensions>=4.2.0 in /Users/ollieballinger/miniconda3/envs/geo/lib/python3.9/site-packages (from sqlalchemy>=1.3.22->duckdb-engine) (4.7.1)\n",
            "Requirement already satisfied: MarkupSafe>=2.0 in /Users/ollieballinger/miniconda3/envs/geo/lib/python3.9/site-packages (from jinja2->jupysql) (2.1.1)\n",
            "Requirement already satisfied: wcwidth in /Users/ollieballinger/miniconda3/envs/geo/lib/python3.9/site-packages (from prettytable->jupysql) (0.2.5)\n",
            "Requirement already satisfied: requests<3.0,>=2.7 in /Users/ollieballinger/miniconda3/envs/geo/lib/python3.9/site-packages (from posthog->ploomber-core>=0.2.7->jupysql) (2.31.0)\n",
            "Requirement already satisfied: six>=1.5 in /Users/ollieballinger/miniconda3/envs/geo/lib/python3.9/site-packages (from posthog->ploomber-core>=0.2.7->jupysql) (1.16.0)\n",
            "Requirement already satisfied: monotonic>=1.5 in /Users/ollieballinger/miniconda3/envs/geo/lib/python3.9/site-packages (from posthog->ploomber-core>=0.2.7->jupysql) (1.6)\n",
            "Requirement already satisfied: backoff>=1.10.0 in /Users/ollieballinger/miniconda3/envs/geo/lib/python3.9/site-packages (from posthog->ploomber-core>=0.2.7->jupysql) (2.2.1)\n",
            "Requirement already satisfied: python-dateutil>2.1 in /Users/ollieballinger/miniconda3/envs/geo/lib/python3.9/site-packages (from posthog->ploomber-core>=0.2.7->jupysql) (2.8.2)\n",
            "Requirement already satisfied: charset-normalizer<4,>=2 in /Users/ollieballinger/miniconda3/envs/geo/lib/python3.9/site-packages (from requests<3.0,>=2.7->posthog->ploomber-core>=0.2.7->jupysql) (3.3.2)\n",
            "Requirement already satisfied: idna<4,>=2.5 in /Users/ollieballinger/miniconda3/envs/geo/lib/python3.9/site-packages (from requests<3.0,>=2.7->posthog->ploomber-core>=0.2.7->jupysql) (3.6)\n",
            "Requirement already satisfied: urllib3<3,>=1.21.1 in /Users/ollieballinger/miniconda3/envs/geo/lib/python3.9/site-packages (from requests<3.0,>=2.7->posthog->ploomber-core>=0.2.7->jupysql) (1.26.15)\n",
            "Requirement already satisfied: certifi>=2017.4.17 in /Users/ollieballinger/miniconda3/envs/geo/lib/python3.9/site-packages (from requests<3.0,>=2.7->posthog->ploomber-core>=0.2.7->jupysql) (2023.11.17)\n",
            "Note: you may need to restart the kernel to use updated packages.\n"
          ]
        }
      ],
      "source": [
        "%pip install duckdb duckdb-engine jupysql"
      ],
      "id": "wslHFzkBxMGg"
    },
    {
      "cell_type": "markdown",
      "metadata": {
        "id": "vbWgzzqBxMGh"
      },
      "source": [
        "## Library Import and Configuration"
      ],
      "id": "vbWgzzqBxMGh"
    },
    {
      "cell_type": "code",
      "execution_count": null,
      "metadata": {
        "id": "zEU4ENRBxMGh",
        "outputId": "000e4ff1-c329-40a5-bf0b-0af551fe6332"
      },
      "outputs": [
        {
          "name": "stdout",
          "output_type": "stream",
          "text": [
            "\u001b[32mDeploy AI and data apps for free on Ploomber Cloud! Learn more: https://docs.cloud.ploomber.io/en/latest/quickstart/signup.html\u001b[0m\n"
          ]
        }
      ],
      "source": [
        "import duckdb\n",
        "import pandas as pd\n",
        "\n",
        "# Import jupysql Jupyter extension to create SQL cells\n",
        "%load_ext sql"
      ],
      "id": "zEU4ENRBxMGh"
    },
    {
      "cell_type": "markdown",
      "metadata": {
        "id": "Baogd1VVxMGh"
      },
      "source": [
        "Set configurations on jupysql to directly output data to Pandas and to simplify the output that is printed to the notebook."
      ],
      "id": "Baogd1VVxMGh"
    },
    {
      "cell_type": "code",
      "execution_count": null,
      "metadata": {
        "id": "zbNDTJaExMGi"
      },
      "outputs": [],
      "source": [
        "%config SqlMagic.autopandas = True\n",
        "%config SqlMagic.feedback = False\n",
        "%config SqlMagic.displaycon = False"
      ],
      "id": "zbNDTJaExMGi"
    },
    {
      "cell_type": "markdown",
      "metadata": {
        "id": "5AdAEgRjxMGi"
      },
      "source": [
        "## Connecting to DuckDB\n",
        "\n",
        "Connect jupysql to DuckDB using a SQLAlchemy-style connection string. You may either connect to an in memory DuckDB, or a file backed db."
      ],
      "id": "5AdAEgRjxMGi"
    },
    {
      "cell_type": "code",
      "execution_count": null,
      "metadata": {
        "id": "WvVVPADmxMGi"
      },
      "outputs": [],
      "source": [
        "%sql duckdb:///:memory:\n",
        "# %sql duckdb:///path/to/file.db"
      ],
      "id": "WvVVPADmxMGi"
    },
    {
      "cell_type": "markdown",
      "metadata": {
        "id": "66rDW-QGxMGi"
      },
      "source": [
        " If your SQL query is one line only, you may use the `%sql` magic command. For multi-line SQL query, you may use the `%%sql` magic command."
      ],
      "id": "66rDW-QGxMGi"
    },
    {
      "cell_type": "markdown",
      "metadata": {
        "id": "bfsOVFSixMGi"
      },
      "source": [
        "## Install extensions"
      ],
      "id": "bfsOVFSixMGi"
    },
    {
      "cell_type": "markdown",
      "metadata": {
        "id": "eG1f3uvWxMGi"
      },
      "source": [
        "\n",
        "Check available DuckDB extensions."
      ],
      "id": "eG1f3uvWxMGi"
    },
    {
      "cell_type": "code",
      "execution_count": null,
      "metadata": {
        "id": "hJi5W551xMGj",
        "outputId": "a6af2119-a502-4284-cc52-f072a4beb1a7"
      },
      "outputs": [
        {
          "data": {
            "text/html": [
              "<div>\n",
              "<style scoped>\n",
              "    .dataframe tbody tr th:only-of-type {\n",
              "        vertical-align: middle;\n",
              "    }\n",
              "\n",
              "    .dataframe tbody tr th {\n",
              "        vertical-align: top;\n",
              "    }\n",
              "\n",
              "    .dataframe thead th {\n",
              "        text-align: right;\n",
              "    }\n",
              "</style>\n",
              "<table border=\"1\" class=\"dataframe\">\n",
              "  <thead>\n",
              "    <tr style=\"text-align: right;\">\n",
              "      <th></th>\n",
              "      <th>extension_name</th>\n",
              "      <th>loaded</th>\n",
              "      <th>installed</th>\n",
              "      <th>install_path</th>\n",
              "      <th>description</th>\n",
              "      <th>aliases</th>\n",
              "    </tr>\n",
              "  </thead>\n",
              "  <tbody>\n",
              "    <tr>\n",
              "      <th>0</th>\n",
              "      <td>arrow</td>\n",
              "      <td>False</td>\n",
              "      <td>False</td>\n",
              "      <td></td>\n",
              "      <td>A zero-copy data integration between Apache Ar...</td>\n",
              "      <td>[]</td>\n",
              "    </tr>\n",
              "    <tr>\n",
              "      <th>1</th>\n",
              "      <td>autocomplete</td>\n",
              "      <td>False</td>\n",
              "      <td>False</td>\n",
              "      <td></td>\n",
              "      <td>Adds support for autocomplete in the shell</td>\n",
              "      <td>[]</td>\n",
              "    </tr>\n",
              "    <tr>\n",
              "      <th>2</th>\n",
              "      <td>aws</td>\n",
              "      <td>False</td>\n",
              "      <td>False</td>\n",
              "      <td></td>\n",
              "      <td>Provides features that depend on the AWS SDK</td>\n",
              "      <td>[]</td>\n",
              "    </tr>\n",
              "    <tr>\n",
              "      <th>3</th>\n",
              "      <td>azure</td>\n",
              "      <td>False</td>\n",
              "      <td>False</td>\n",
              "      <td></td>\n",
              "      <td>Adds a filesystem abstraction for Azure blob s...</td>\n",
              "      <td>[]</td>\n",
              "    </tr>\n",
              "    <tr>\n",
              "      <th>4</th>\n",
              "      <td>excel</td>\n",
              "      <td>False</td>\n",
              "      <td>False</td>\n",
              "      <td></td>\n",
              "      <td>Adds support for Excel-like format strings</td>\n",
              "      <td>[]</td>\n",
              "    </tr>\n",
              "    <tr>\n",
              "      <th>5</th>\n",
              "      <td>fts</td>\n",
              "      <td>False</td>\n",
              "      <td>True</td>\n",
              "      <td>(BUILT-IN)</td>\n",
              "      <td>Adds support for Full-Text Search Indexes</td>\n",
              "      <td>[]</td>\n",
              "    </tr>\n",
              "    <tr>\n",
              "      <th>6</th>\n",
              "      <td>httpfs</td>\n",
              "      <td>False</td>\n",
              "      <td>True</td>\n",
              "      <td>/Users/ollieballinger/.duckdb/extensions/v0.9....</td>\n",
              "      <td>Adds support for reading and writing files ove...</td>\n",
              "      <td>[http, https, s3]</td>\n",
              "    </tr>\n",
              "    <tr>\n",
              "      <th>7</th>\n",
              "      <td>iceberg</td>\n",
              "      <td>False</td>\n",
              "      <td>False</td>\n",
              "      <td></td>\n",
              "      <td>Adds support for Apache Iceberg</td>\n",
              "      <td>[]</td>\n",
              "    </tr>\n",
              "    <tr>\n",
              "      <th>8</th>\n",
              "      <td>icu</td>\n",
              "      <td>True</td>\n",
              "      <td>True</td>\n",
              "      <td>(BUILT-IN)</td>\n",
              "      <td>Adds support for time zones and collations usi...</td>\n",
              "      <td>[]</td>\n",
              "    </tr>\n",
              "    <tr>\n",
              "      <th>9</th>\n",
              "      <td>inet</td>\n",
              "      <td>False</td>\n",
              "      <td>False</td>\n",
              "      <td></td>\n",
              "      <td>Adds support for IP-related data types and fun...</td>\n",
              "      <td>[]</td>\n",
              "    </tr>\n",
              "    <tr>\n",
              "      <th>10</th>\n",
              "      <td>jemalloc</td>\n",
              "      <td>False</td>\n",
              "      <td>False</td>\n",
              "      <td></td>\n",
              "      <td>Overwrites system allocator with JEMalloc</td>\n",
              "      <td>[]</td>\n",
              "    </tr>\n",
              "    <tr>\n",
              "      <th>11</th>\n",
              "      <td>json</td>\n",
              "      <td>True</td>\n",
              "      <td>True</td>\n",
              "      <td>(BUILT-IN)</td>\n",
              "      <td>Adds support for JSON operations</td>\n",
              "      <td>[]</td>\n",
              "    </tr>\n",
              "    <tr>\n",
              "      <th>12</th>\n",
              "      <td>motherduck</td>\n",
              "      <td>False</td>\n",
              "      <td>False</td>\n",
              "      <td></td>\n",
              "      <td>Enables motherduck integration with the system</td>\n",
              "      <td>[md]</td>\n",
              "    </tr>\n",
              "    <tr>\n",
              "      <th>13</th>\n",
              "      <td>mysql_scanner</td>\n",
              "      <td>False</td>\n",
              "      <td>False</td>\n",
              "      <td></td>\n",
              "      <td>Adds support for connecting to a MySQL database</td>\n",
              "      <td>[mysql]</td>\n",
              "    </tr>\n",
              "    <tr>\n",
              "      <th>14</th>\n",
              "      <td>parquet</td>\n",
              "      <td>True</td>\n",
              "      <td>True</td>\n",
              "      <td>(BUILT-IN)</td>\n",
              "      <td>Adds support for reading and writing parquet f...</td>\n",
              "      <td>[]</td>\n",
              "    </tr>\n",
              "    <tr>\n",
              "      <th>15</th>\n",
              "      <td>postgres_scanner</td>\n",
              "      <td>False</td>\n",
              "      <td>False</td>\n",
              "      <td></td>\n",
              "      <td>Adds support for connecting to a Postgres data...</td>\n",
              "      <td>[postgres]</td>\n",
              "    </tr>\n",
              "    <tr>\n",
              "      <th>16</th>\n",
              "      <td>spatial</td>\n",
              "      <td>False</td>\n",
              "      <td>True</td>\n",
              "      <td>/Users/ollieballinger/.duckdb/extensions/v0.9....</td>\n",
              "      <td>Geospatial extension that adds support for wor...</td>\n",
              "      <td>[]</td>\n",
              "    </tr>\n",
              "    <tr>\n",
              "      <th>17</th>\n",
              "      <td>sqlite_scanner</td>\n",
              "      <td>False</td>\n",
              "      <td>False</td>\n",
              "      <td></td>\n",
              "      <td>Adds support for reading and writing SQLite da...</td>\n",
              "      <td>[sqlite, sqlite3]</td>\n",
              "    </tr>\n",
              "    <tr>\n",
              "      <th>18</th>\n",
              "      <td>substrait</td>\n",
              "      <td>False</td>\n",
              "      <td>False</td>\n",
              "      <td></td>\n",
              "      <td>Adds support for the Substrait integration</td>\n",
              "      <td>[]</td>\n",
              "    </tr>\n",
              "    <tr>\n",
              "      <th>19</th>\n",
              "      <td>tpcds</td>\n",
              "      <td>True</td>\n",
              "      <td>True</td>\n",
              "      <td>(BUILT-IN)</td>\n",
              "      <td>Adds TPC-DS data generation and query support</td>\n",
              "      <td>[]</td>\n",
              "    </tr>\n",
              "    <tr>\n",
              "      <th>20</th>\n",
              "      <td>tpch</td>\n",
              "      <td>True</td>\n",
              "      <td>True</td>\n",
              "      <td>(BUILT-IN)</td>\n",
              "      <td>Adds TPC-H data generation and query support</td>\n",
              "      <td>[]</td>\n",
              "    </tr>\n",
              "    <tr>\n",
              "      <th>21</th>\n",
              "      <td>visualizer</td>\n",
              "      <td>False</td>\n",
              "      <td>False</td>\n",
              "      <td></td>\n",
              "      <td>Creates an HTML-based visualization of the que...</td>\n",
              "      <td>[]</td>\n",
              "    </tr>\n",
              "  </tbody>\n",
              "</table>\n",
              "</div>"
            ],
            "text/plain": [
              "      extension_name  loaded  installed  \\\n",
              "0              arrow   False      False   \n",
              "1       autocomplete   False      False   \n",
              "2                aws   False      False   \n",
              "3              azure   False      False   \n",
              "4              excel   False      False   \n",
              "5                fts   False       True   \n",
              "6             httpfs   False       True   \n",
              "7            iceberg   False      False   \n",
              "8                icu    True       True   \n",
              "9               inet   False      False   \n",
              "10          jemalloc   False      False   \n",
              "11              json    True       True   \n",
              "12        motherduck   False      False   \n",
              "13     mysql_scanner   False      False   \n",
              "14           parquet    True       True   \n",
              "15  postgres_scanner   False      False   \n",
              "16           spatial   False       True   \n",
              "17    sqlite_scanner   False      False   \n",
              "18         substrait   False      False   \n",
              "19             tpcds    True       True   \n",
              "20              tpch    True       True   \n",
              "21        visualizer   False      False   \n",
              "\n",
              "                                         install_path  \\\n",
              "0                                                       \n",
              "1                                                       \n",
              "2                                                       \n",
              "3                                                       \n",
              "4                                                       \n",
              "5                                          (BUILT-IN)   \n",
              "6   /Users/ollieballinger/.duckdb/extensions/v0.9....   \n",
              "7                                                       \n",
              "8                                          (BUILT-IN)   \n",
              "9                                                       \n",
              "10                                                      \n",
              "11                                         (BUILT-IN)   \n",
              "12                                                      \n",
              "13                                                      \n",
              "14                                         (BUILT-IN)   \n",
              "15                                                      \n",
              "16  /Users/ollieballinger/.duckdb/extensions/v0.9....   \n",
              "17                                                      \n",
              "18                                                      \n",
              "19                                         (BUILT-IN)   \n",
              "20                                         (BUILT-IN)   \n",
              "21                                                      \n",
              "\n",
              "                                          description            aliases  \n",
              "0   A zero-copy data integration between Apache Ar...                 []  \n",
              "1          Adds support for autocomplete in the shell                 []  \n",
              "2        Provides features that depend on the AWS SDK                 []  \n",
              "3   Adds a filesystem abstraction for Azure blob s...                 []  \n",
              "4          Adds support for Excel-like format strings                 []  \n",
              "5           Adds support for Full-Text Search Indexes                 []  \n",
              "6   Adds support for reading and writing files ove...  [http, https, s3]  \n",
              "7                     Adds support for Apache Iceberg                 []  \n",
              "8   Adds support for time zones and collations usi...                 []  \n",
              "9   Adds support for IP-related data types and fun...                 []  \n",
              "10          Overwrites system allocator with JEMalloc                 []  \n",
              "11                   Adds support for JSON operations                 []  \n",
              "12     Enables motherduck integration with the system               [md]  \n",
              "13    Adds support for connecting to a MySQL database            [mysql]  \n",
              "14  Adds support for reading and writing parquet f...                 []  \n",
              "15  Adds support for connecting to a Postgres data...         [postgres]  \n",
              "16  Geospatial extension that adds support for wor...                 []  \n",
              "17  Adds support for reading and writing SQLite da...  [sqlite, sqlite3]  \n",
              "18         Adds support for the Substrait integration                 []  \n",
              "19      Adds TPC-DS data generation and query support                 []  \n",
              "20       Adds TPC-H data generation and query support                 []  \n",
              "21  Creates an HTML-based visualization of the que...                 []  "
            ]
          },
          "execution_count": 6,
          "metadata": {},
          "output_type": "execute_result"
        }
      ],
      "source": [
        "%%sql\n",
        "\n",
        "SELECT * FROM duckdb_extensions();"
      ],
      "id": "hJi5W551xMGj"
    },
    {
      "cell_type": "markdown",
      "metadata": {
        "id": "5X-wpCLaxMGj"
      },
      "source": [
        "DuckDB's [httpfs extension](https://duckdb.org/docs/extensions/httpfs) allows parquet and csv files to be queried remotely over http. This is useful for querying large datasets without having to download them locally. Let's install the extension and load the extension."
      ],
      "id": "5X-wpCLaxMGj"
    },
    {
      "cell_type": "code",
      "execution_count": null,
      "metadata": {
        "id": "b74MYZNsxMGj",
        "outputId": "4ef06e5b-264f-479d-8ba5-df7f13804799"
      },
      "outputs": [
        {
          "data": {
            "text/html": [
              "<div>\n",
              "<style scoped>\n",
              "    .dataframe tbody tr th:only-of-type {\n",
              "        vertical-align: middle;\n",
              "    }\n",
              "\n",
              "    .dataframe tbody tr th {\n",
              "        vertical-align: top;\n",
              "    }\n",
              "\n",
              "    .dataframe thead th {\n",
              "        text-align: right;\n",
              "    }\n",
              "</style>\n",
              "<table border=\"1\" class=\"dataframe\">\n",
              "  <thead>\n",
              "    <tr style=\"text-align: right;\">\n",
              "      <th></th>\n",
              "      <th>Success</th>\n",
              "    </tr>\n",
              "  </thead>\n",
              "  <tbody>\n",
              "  </tbody>\n",
              "</table>\n",
              "</div>"
            ],
            "text/plain": [
              "Empty DataFrame\n",
              "Columns: [Success]\n",
              "Index: []"
            ]
          },
          "execution_count": 7,
          "metadata": {},
          "output_type": "execute_result"
        }
      ],
      "source": [
        "%%sql\n",
        "\n",
        "INSTALL httpfs;\n",
        "LOAD httpfs;"
      ],
      "id": "b74MYZNsxMGj"
    },
    {
      "cell_type": "markdown",
      "metadata": {
        "id": "Hef7X6HAxMGj"
      },
      "source": [
        "## Read CSV\n",
        "\n",
        "Use the `httpfs` extension to read the `cities.csv` file from the web."
      ],
      "id": "Hef7X6HAxMGj"
    },
    {
      "cell_type": "code",
      "execution_count": null,
      "metadata": {
        "id": "eMzc1zqMxMGj",
        "outputId": "c46e941d-434c-4625-f7b2-1b0c2723e8ff"
      },
      "outputs": [
        {
          "data": {
            "text/html": [
              "<div>\n",
              "<style scoped>\n",
              "    .dataframe tbody tr th:only-of-type {\n",
              "        vertical-align: middle;\n",
              "    }\n",
              "\n",
              "    .dataframe tbody tr th {\n",
              "        vertical-align: top;\n",
              "    }\n",
              "\n",
              "    .dataframe thead th {\n",
              "        text-align: right;\n",
              "    }\n",
              "</style>\n",
              "<table border=\"1\" class=\"dataframe\">\n",
              "  <thead>\n",
              "    <tr style=\"text-align: right;\">\n",
              "      <th></th>\n",
              "      <th>id</th>\n",
              "      <th>name</th>\n",
              "      <th>country</th>\n",
              "      <th>latitude</th>\n",
              "      <th>longitude</th>\n",
              "      <th>population</th>\n",
              "    </tr>\n",
              "  </thead>\n",
              "  <tbody>\n",
              "    <tr>\n",
              "      <th>0</th>\n",
              "      <td>1</td>\n",
              "      <td>Bombo</td>\n",
              "      <td>UGA</td>\n",
              "      <td>0.58330</td>\n",
              "      <td>32.53330</td>\n",
              "      <td>75000</td>\n",
              "    </tr>\n",
              "    <tr>\n",
              "      <th>1</th>\n",
              "      <td>2</td>\n",
              "      <td>Fort Portal</td>\n",
              "      <td>UGA</td>\n",
              "      <td>0.67100</td>\n",
              "      <td>30.27500</td>\n",
              "      <td>42670</td>\n",
              "    </tr>\n",
              "    <tr>\n",
              "      <th>2</th>\n",
              "      <td>3</td>\n",
              "      <td>Potenza</td>\n",
              "      <td>ITA</td>\n",
              "      <td>40.64200</td>\n",
              "      <td>15.79900</td>\n",
              "      <td>69060</td>\n",
              "    </tr>\n",
              "    <tr>\n",
              "      <th>3</th>\n",
              "      <td>4</td>\n",
              "      <td>Campobasso</td>\n",
              "      <td>ITA</td>\n",
              "      <td>41.56300</td>\n",
              "      <td>14.65600</td>\n",
              "      <td>50762</td>\n",
              "    </tr>\n",
              "    <tr>\n",
              "      <th>4</th>\n",
              "      <td>5</td>\n",
              "      <td>Aosta</td>\n",
              "      <td>ITA</td>\n",
              "      <td>45.73700</td>\n",
              "      <td>7.31500</td>\n",
              "      <td>34062</td>\n",
              "    </tr>\n",
              "    <tr>\n",
              "      <th>...</th>\n",
              "      <td>...</td>\n",
              "      <td>...</td>\n",
              "      <td>...</td>\n",
              "      <td>...</td>\n",
              "      <td>...</td>\n",
              "      <td>...</td>\n",
              "    </tr>\n",
              "    <tr>\n",
              "      <th>1244</th>\n",
              "      <td>1245</td>\n",
              "      <td>Rio de Janeiro</td>\n",
              "      <td>BRA</td>\n",
              "      <td>-22.92502</td>\n",
              "      <td>-43.22502</td>\n",
              "      <td>11748000</td>\n",
              "    </tr>\n",
              "    <tr>\n",
              "      <th>1245</th>\n",
              "      <td>1246</td>\n",
              "      <td>Sao Paulo</td>\n",
              "      <td>BRA</td>\n",
              "      <td>-23.55868</td>\n",
              "      <td>-46.62502</td>\n",
              "      <td>18845000</td>\n",
              "    </tr>\n",
              "    <tr>\n",
              "      <th>1246</th>\n",
              "      <td>1247</td>\n",
              "      <td>Sydney</td>\n",
              "      <td>AUS</td>\n",
              "      <td>-33.92001</td>\n",
              "      <td>151.18518</td>\n",
              "      <td>4630000</td>\n",
              "    </tr>\n",
              "    <tr>\n",
              "      <th>1247</th>\n",
              "      <td>1248</td>\n",
              "      <td>Singapore</td>\n",
              "      <td>SGP</td>\n",
              "      <td>1.29303</td>\n",
              "      <td>103.85582</td>\n",
              "      <td>5183700</td>\n",
              "    </tr>\n",
              "    <tr>\n",
              "      <th>1248</th>\n",
              "      <td>1249</td>\n",
              "      <td>Hong Kong</td>\n",
              "      <td>CHN</td>\n",
              "      <td>22.30498</td>\n",
              "      <td>114.18501</td>\n",
              "      <td>7206000</td>\n",
              "    </tr>\n",
              "  </tbody>\n",
              "</table>\n",
              "<p>1249 rows × 6 columns</p>\n",
              "</div>"
            ],
            "text/plain": [
              "        id            name country  latitude  longitude  population\n",
              "0        1           Bombo     UGA   0.58330   32.53330       75000\n",
              "1        2     Fort Portal     UGA   0.67100   30.27500       42670\n",
              "2        3         Potenza     ITA  40.64200   15.79900       69060\n",
              "3        4      Campobasso     ITA  41.56300   14.65600       50762\n",
              "4        5           Aosta     ITA  45.73700    7.31500       34062\n",
              "...    ...             ...     ...       ...        ...         ...\n",
              "1244  1245  Rio de Janeiro     BRA -22.92502  -43.22502    11748000\n",
              "1245  1246       Sao Paulo     BRA -23.55868  -46.62502    18845000\n",
              "1246  1247          Sydney     AUS -33.92001  151.18518     4630000\n",
              "1247  1248       Singapore     SGP   1.29303  103.85582     5183700\n",
              "1248  1249       Hong Kong     CHN  22.30498  114.18501     7206000\n",
              "\n",
              "[1249 rows x 6 columns]"
            ]
          },
          "execution_count": 8,
          "metadata": {},
          "output_type": "execute_result"
        }
      ],
      "source": [
        "%%sql\n",
        "\n",
        "SELECT * FROM 'https://open.gishub.org/data/duckdb/cities.csv';"
      ],
      "id": "eMzc1zqMxMGj"
    },
    {
      "cell_type": "code",
      "execution_count": null,
      "metadata": {
        "id": "CU8aN0nvxMGj"
      },
      "outputs": [],
      "source": [
        "%%sql\n",
        "\n",
        "SELECT * FROM 'https://open.gishub.org/data/duckdb/countries.csv';"
      ],
      "id": "CU8aN0nvxMGj"
    },
    {
      "cell_type": "markdown",
      "metadata": {
        "id": "NseBTHlSxMGj"
      },
      "source": [
        "## Create Table\n",
        "\n",
        "Create a table named `cities` from the `cities.csv` file."
      ],
      "id": "NseBTHlSxMGj"
    },
    {
      "cell_type": "code",
      "execution_count": null,
      "metadata": {
        "id": "i2zZvr6axMGj"
      },
      "outputs": [],
      "source": [
        "%%sql\n",
        "\n",
        "CREATE TABLE cities AS SELECT * FROM 'https://open.gishub.org/data/duckdb/cities.csv';"
      ],
      "id": "i2zZvr6axMGj"
    },
    {
      "cell_type": "markdown",
      "metadata": {
        "id": "VconJXH9xMGk"
      },
      "source": [
        "Create a table named `countries` from the `countries.csv` file."
      ],
      "id": "VconJXH9xMGk"
    },
    {
      "cell_type": "code",
      "execution_count": null,
      "metadata": {
        "id": "uk1P7OsOxMGk"
      },
      "outputs": [],
      "source": [
        "%%sql\n",
        "\n",
        "CREATE TABLE countries AS SELECT * FROM 'https://open.gishub.org/data/duckdb/countries.csv';"
      ],
      "id": "uk1P7OsOxMGk"
    },
    {
      "cell_type": "markdown",
      "metadata": {
        "id": "UX7PTXijxMGk"
      },
      "source": [
        "Display the table content in the database."
      ],
      "id": "UX7PTXijxMGk"
    },
    {
      "cell_type": "code",
      "execution_count": null,
      "metadata": {
        "id": "141ZxabUxMGk"
      },
      "outputs": [],
      "source": [
        "%%sql\n",
        "\n",
        "FROM cities;"
      ],
      "id": "141ZxabUxMGk"
    },
    {
      "cell_type": "code",
      "execution_count": null,
      "metadata": {
        "id": "VpzEMDb9xMGk"
      },
      "outputs": [],
      "source": [
        "%%sql\n",
        "\n",
        "FROM countries;"
      ],
      "id": "VpzEMDb9xMGk"
    },
    {
      "cell_type": "markdown",
      "metadata": {
        "id": "uGowBVVnxMGk"
      },
      "source": [
        "## The SQL SELECT statement\n",
        "\n",
        "The `SELECT` statement is used to select data from a database. Use either `SELECT *` to select all columns, or `SELECT column1, column2, ...` to select specific columns.\n",
        "\n",
        "`SELECT * FROM cities` is the same as `FROM cities`."
      ],
      "id": "uGowBVVnxMGk"
    },
    {
      "cell_type": "code",
      "execution_count": null,
      "metadata": {
        "scrolled": true,
        "tags": [
          "hide-output"
        ],
        "id": "HlRuAjIixMGk"
      },
      "outputs": [],
      "source": [
        "%%sql\n",
        "\n",
        "SELECT * FROM cities;"
      ],
      "id": "HlRuAjIixMGk"
    },
    {
      "cell_type": "markdown",
      "metadata": {
        "id": "ja30wQiAxMGk"
      },
      "source": [
        "To limit the number of rows returned, use the `LIMIT` keyword. For example, `SELECT * FROM cities LIMIT 10` will return only the first 10 rows."
      ],
      "id": "ja30wQiAxMGk"
    },
    {
      "cell_type": "code",
      "execution_count": null,
      "metadata": {
        "scrolled": false,
        "id": "0TNk3--exMGk"
      },
      "outputs": [],
      "source": [
        "%%sql\n",
        "\n",
        "SELECT * FROM cities LIMIT 10;"
      ],
      "id": "0TNk3--exMGk"
    },
    {
      "cell_type": "markdown",
      "metadata": {
        "id": "bLPt2OBfxMGk"
      },
      "source": [
        "Select a subset of columns from the `cities` table and display the first 10 rows."
      ],
      "id": "bLPt2OBfxMGk"
    },
    {
      "cell_type": "code",
      "execution_count": null,
      "metadata": {
        "scrolled": false,
        "id": "kNPE3RKVxMGk"
      },
      "outputs": [],
      "source": [
        "%%sql\n",
        "\n",
        "SELECT name, country FROM cities LIMIT 10;"
      ],
      "id": "kNPE3RKVxMGk"
    },
    {
      "cell_type": "markdown",
      "metadata": {
        "id": "nM2XGR48xMGk"
      },
      "source": [
        "To select distinct values, use the `DISTINCT` keyword. For example, `SELECT DISTINCT country FROM cities` will return only the distinct values of the `country` column."
      ],
      "id": "nM2XGR48xMGk"
    },
    {
      "cell_type": "code",
      "execution_count": null,
      "metadata": {
        "id": "UVi_yPpsxMGk"
      },
      "outputs": [],
      "source": [
        "%%sql\n",
        "\n",
        "SELECT DISTINCT country FROM cities LIMIT 10;"
      ],
      "id": "UVi_yPpsxMGk"
    },
    {
      "cell_type": "markdown",
      "metadata": {
        "id": "xV2D4iN5xMGl"
      },
      "source": [
        "To count the number of rows returned, use the `COUNT(*)` function. For example, `SELECT COUNT(*) FROM cities` will return the number of rows in the `cities` table."
      ],
      "id": "xV2D4iN5xMGl"
    },
    {
      "cell_type": "code",
      "execution_count": null,
      "metadata": {
        "id": "gEk4IfBNxMGl"
      },
      "outputs": [],
      "source": [
        "%%sql\n",
        "\n",
        "SELECT COUNT(*) FROM cities;"
      ],
      "id": "gEk4IfBNxMGl"
    },
    {
      "cell_type": "markdown",
      "metadata": {
        "id": "3bAf_PtdxMGl"
      },
      "source": [
        "To count the number of distinct values, use the `COUNT(DISTINCT column)` function. For example, `SELECT COUNT(DISTINCT country) FROM cities` will return the number of distinct values in the `country` column."
      ],
      "id": "3bAf_PtdxMGl"
    },
    {
      "cell_type": "code",
      "execution_count": null,
      "metadata": {
        "id": "khpnd8lGxMGl"
      },
      "outputs": [],
      "source": [
        "%%sql\n",
        "\n",
        "SELECT COUNT(DISTINCT country) FROM cities;"
      ],
      "id": "khpnd8lGxMGl"
    },
    {
      "cell_type": "markdown",
      "metadata": {
        "id": "L9U0K3udxMGl"
      },
      "source": [
        "To calculate the maximum value, use the `MAX(column)` function. For example, `SELECT MAX(population) FROM cities` will return the maximum value in the `population` column."
      ],
      "id": "L9U0K3udxMGl"
    },
    {
      "cell_type": "code",
      "execution_count": null,
      "metadata": {
        "id": "Dy5uq7rBxMGl"
      },
      "outputs": [],
      "source": [
        "%%sql\n",
        "\n",
        "SELECT MAX(population) FROM cities;"
      ],
      "id": "Dy5uq7rBxMGl"
    },
    {
      "cell_type": "markdown",
      "metadata": {
        "id": "RK8a9t72xMGo"
      },
      "source": [
        "To calculate the total value, use the `SUM(column)` function. For example, `SELECT SUM(population) FROM cities` will return the total value in the `population` column."
      ],
      "id": "RK8a9t72xMGo"
    },
    {
      "cell_type": "code",
      "execution_count": null,
      "metadata": {
        "id": "8gBIcK3bxMGp"
      },
      "outputs": [],
      "source": [
        "%%sql\n",
        "\n",
        "SELECT SUM(population) FROM cities;"
      ],
      "id": "8gBIcK3bxMGp"
    },
    {
      "cell_type": "markdown",
      "metadata": {
        "id": "yN5MxxGgxMGp"
      },
      "source": [
        "To calculate the average value, use the `AVG(column)` function. For example, `SELECT AVG(population) FROM cities` will return the average value in the `population` column."
      ],
      "id": "yN5MxxGgxMGp"
    },
    {
      "cell_type": "code",
      "execution_count": null,
      "metadata": {
        "id": "AZO5aXwvxMGp"
      },
      "outputs": [],
      "source": [
        "%%sql\n",
        "\n",
        "SELECT AVG(population) FROM cities;"
      ],
      "id": "AZO5aXwvxMGp"
    },
    {
      "cell_type": "markdown",
      "metadata": {
        "id": "ZsxpKwGFxMGp"
      },
      "source": [
        "To order the results, use the `ORDER BY column` clause. For example, `SELECT * FROM cities ORDER BY country` will return the rows ordered by the `country` column alphabetically."
      ],
      "id": "ZsxpKwGFxMGp"
    },
    {
      "cell_type": "code",
      "execution_count": null,
      "metadata": {
        "id": "d0F4Mf_1xMGp"
      },
      "outputs": [],
      "source": [
        "%%sql\n",
        "\n",
        "SELECT * FROM cities ORDER BY country LIMIT 10;"
      ],
      "id": "d0F4Mf_1xMGp"
    },
    {
      "cell_type": "markdown",
      "metadata": {
        "id": "PtBvSifgxMGp"
      },
      "source": [
        "To order the results in descending order, use the `ORDER BY column DESC` clause. For example, `SELECT * FROM cities ORDER BY country ASC, population DESC` will return the rows ordered by the `country` column alphabetical order and then by the `population` column in descending order."
      ],
      "id": "PtBvSifgxMGp"
    },
    {
      "cell_type": "code",
      "execution_count": null,
      "metadata": {
        "id": "UX9wMZpbxMGp"
      },
      "outputs": [],
      "source": [
        "%%sql\n",
        "\n",
        "SELECT * FROM cities ORDER BY country ASC, population DESC LIMIT 10;"
      ],
      "id": "UX9wMZpbxMGp"
    },
    {
      "cell_type": "markdown",
      "metadata": {
        "id": "fNQGfGALxMGp"
      },
      "source": [
        "## The WHERE Clause\n",
        "\n",
        "The `WHERE` clause is used to filter records. The `WHERE` clause is used to extract only those records that fulfill a specified condition."
      ],
      "id": "fNQGfGALxMGp"
    },
    {
      "cell_type": "code",
      "execution_count": null,
      "metadata": {
        "scrolled": true,
        "tags": [
          "hide-output"
        ],
        "id": "u87UkrCpxMGp"
      },
      "outputs": [],
      "source": [
        "%%sql\n",
        "\n",
        "SELECT * FROM cities WHERE country='USA'"
      ],
      "id": "u87UkrCpxMGp"
    },
    {
      "cell_type": "markdown",
      "metadata": {
        "id": "WmzMNItDxMGp"
      },
      "source": [
        "You can use boolean operators such as `AND`, `OR`, `NOT` to filter records. For example, `SELECT * FROM cities WHERE country='USA' OR country='CAN'` will return the rows where the `country` column is either `USA` or `CAN`."
      ],
      "id": "WmzMNItDxMGp"
    },
    {
      "cell_type": "code",
      "execution_count": null,
      "metadata": {
        "scrolled": false,
        "tags": [
          "hide-output"
        ],
        "id": "1V0NMxhAxMGp"
      },
      "outputs": [],
      "source": [
        "%%sql\n",
        "\n",
        "SELECT * FROM cities WHERE country='USA' OR country='CAN';"
      ],
      "id": "1V0NMxhAxMGp"
    },
    {
      "cell_type": "markdown",
      "metadata": {
        "id": "jWWoy_qPxMGp"
      },
      "source": [
        "To select US cities with a population greater than 1 million, use the following query: `SELECT * FROM cities WHERE country='USA' AND population > 1000000`."
      ],
      "id": "jWWoy_qPxMGp"
    },
    {
      "cell_type": "code",
      "execution_count": null,
      "metadata": {
        "tags": [
          "hide-output"
        ],
        "id": "ksbxUaQ1xMGp"
      },
      "outputs": [],
      "source": [
        "%%sql\n",
        "\n",
        "SELECT * FROM cities WHERE country='USA' AND population>1000000;"
      ],
      "id": "ksbxUaQ1xMGp"
    },
    {
      "cell_type": "markdown",
      "metadata": {
        "id": "tMP0hWjZxMGp"
      },
      "source": [
        "To select cities with the country name starting with the letter `U`, use the following query: `SELECT * FROM cities WHERE country LIKE 'U%'`."
      ],
      "id": "tMP0hWjZxMGp"
    },
    {
      "cell_type": "code",
      "execution_count": null,
      "metadata": {
        "scrolled": false,
        "tags": [
          "hide-output"
        ],
        "id": "dp3QnPCzxMGp"
      },
      "outputs": [],
      "source": [
        "%%sql\n",
        "\n",
        "SELECT * FROM cities WHERE country LIKE 'U%';"
      ],
      "id": "dp3QnPCzxMGp"
    },
    {
      "cell_type": "markdown",
      "metadata": {
        "id": "fnS-uyBOxMGq"
      },
      "source": [
        "To select cities with the country name ending with the letter `A`, use the following query: `SELECT * FROM cities WHERE country LIKE '%A'`."
      ],
      "id": "fnS-uyBOxMGq"
    },
    {
      "cell_type": "code",
      "execution_count": null,
      "metadata": {
        "tags": [
          "hide-output"
        ],
        "id": "eVs8yE8FxMGq"
      },
      "outputs": [],
      "source": [
        "%%sql\n",
        "\n",
        "SELECT * FROM cities WHERE country LIKE '%A';"
      ],
      "id": "eVs8yE8FxMGq"
    },
    {
      "cell_type": "markdown",
      "metadata": {
        "id": "wgueul5FxMGq"
      },
      "source": [
        "To select cities with the country name containing the letter `S` in the middle, use the following query: `SELECT * FROM cities WHERE country LIKE '_S_'`."
      ],
      "id": "wgueul5FxMGq"
    },
    {
      "cell_type": "code",
      "execution_count": null,
      "metadata": {
        "tags": [
          "hide-output"
        ],
        "id": "vNzDsEIRxMGq"
      },
      "outputs": [],
      "source": [
        "%%sql\n",
        "\n",
        "SELECT * FROM cities WHERE country LIKE '_S_';"
      ],
      "id": "vNzDsEIRxMGq"
    },
    {
      "cell_type": "markdown",
      "metadata": {
        "id": "q82028JIxMGq"
      },
      "source": [
        "To select cities from a list of countries, use the `IN` operator. For example, `SELECT * FROM cities WHERE country IN ('USA', 'CAN')` will return the rows where the `country` column is either `USA` or `CAN`."
      ],
      "id": "q82028JIxMGq"
    },
    {
      "cell_type": "code",
      "execution_count": null,
      "metadata": {
        "tags": [
          "hide-output"
        ],
        "id": "zh7qv4B4xMGq"
      },
      "outputs": [],
      "source": [
        "%%sql\n",
        "\n",
        "SELECT * FROM cities WHERE country IN ('USA', 'CAN');"
      ],
      "id": "zh7qv4B4xMGq"
    },
    {
      "cell_type": "markdown",
      "metadata": {
        "id": "owOC6R41xMGq"
      },
      "source": [
        "To select cities with a population between 1 and 10 million, use the following query: `SELECT * FROM cities WHERE population BETWEEN 1000000 AND 10000000`."
      ],
      "id": "owOC6R41xMGq"
    },
    {
      "cell_type": "code",
      "execution_count": null,
      "metadata": {
        "scrolled": false,
        "tags": [
          "hide-output"
        ],
        "id": "99oozaCyxMGq"
      },
      "outputs": [],
      "source": [
        "%%sql\n",
        "\n",
        "SELECT * FROM cities WHERE population BETWEEN 1000000 AND 10000000;"
      ],
      "id": "99oozaCyxMGq"
    },
    {
      "cell_type": "markdown",
      "metadata": {
        "id": "ohQsWJq2xMGq"
      },
      "source": [
        "## SQL Joins\n",
        "\n",
        "Reference: https://www.w3schools.com/sql/sql_join.asp\n",
        "\n",
        "Here are the different types of the JOINs in SQL:\n",
        "\n",
        "- `(INNER) JOIN`: Returns records that have matching values in both tables\n",
        "- `LEFT (OUTER) JOIN`: Returns all records from the left table, and the matched records from the right table\n",
        "- `RIGHT (OUTER) JOIN`: Returns all records from the right table, and the matched records from the left table\n",
        "- `FULL (OUTER) JOIN`: Returns all records when there is a match in either left or right table\n",
        "\n",
        "![](https://i.imgur.com/mITYzuS.png)\n",
        "\n",
        "We have two sample tables: `cities` and `countries`.\n",
        "\n",
        "There are 1,249 cities in the `cities` table and 243 countries in the `countries` table."
      ],
      "id": "ohQsWJq2xMGq"
    },
    {
      "cell_type": "code",
      "execution_count": null,
      "metadata": {
        "id": "4Dyxb_A3xMGq"
      },
      "outputs": [],
      "source": [
        "%%sql\n",
        "\n",
        "SELECT COUNT(*) FROM cities;"
      ],
      "id": "4Dyxb_A3xMGq"
    },
    {
      "cell_type": "code",
      "execution_count": null,
      "metadata": {
        "id": "LyPG-K0kxMGq"
      },
      "outputs": [],
      "source": [
        "%%sql\n",
        "\n",
        "SELECT * FROM cities LIMIT 10;"
      ],
      "id": "LyPG-K0kxMGq"
    },
    {
      "cell_type": "code",
      "execution_count": null,
      "metadata": {
        "id": "iA5380B7xMGq"
      },
      "outputs": [],
      "source": [
        "%%sql\n",
        "\n",
        "SELECT COUNT(*) FROM countries;"
      ],
      "id": "iA5380B7xMGq"
    },
    {
      "cell_type": "code",
      "execution_count": null,
      "metadata": {
        "id": "Y4S4DHw6xMGq"
      },
      "outputs": [],
      "source": [
        "%%sql\n",
        "\n",
        "SELECT * FROM countries LIMIT 10;"
      ],
      "id": "Y4S4DHw6xMGq"
    },
    {
      "cell_type": "markdown",
      "metadata": {
        "id": "qVWRXjaixMGq"
      },
      "source": [
        "### SQL Inner Join\n",
        "\n",
        "The `INNER JOIN` keyword selects records that have matching values in both tables. In the example, we join the `cities` table with the `countries` table using the `country` column in the `cities` table and the `Alpha3_code` column in the `countries` table. The result contains 1,244 rows, indicating that there are 5 cities that do not have a matching country."
      ],
      "id": "qVWRXjaixMGq"
    },
    {
      "cell_type": "code",
      "execution_count": null,
      "metadata": {
        "tags": [
          "hide-output"
        ],
        "id": "XoKTHKGixMGq"
      },
      "outputs": [],
      "source": [
        "%%sql\n",
        "\n",
        "SELECT * FROM cities INNER JOIN countries ON cities.country = countries.\"Alpha3_code\";"
      ],
      "id": "XoKTHKGixMGq"
    },
    {
      "cell_type": "markdown",
      "metadata": {
        "id": "DoW1tHHyxMGr"
      },
      "source": [
        "Only select the `city` and `country` columns from the `cities` table and the `Country` column from the `countries` table."
      ],
      "id": "DoW1tHHyxMGr"
    },
    {
      "cell_type": "code",
      "execution_count": null,
      "metadata": {
        "tags": [
          "hide-output"
        ],
        "id": "0xzEYDQYxMGr"
      },
      "outputs": [],
      "source": [
        "%%sql\n",
        "\n",
        "SELECT name, cities.\"country\", countries.\"Country\" FROM cities INNER JOIN countries ON cities.country = countries.\"Alpha3_code\";"
      ],
      "id": "0xzEYDQYxMGr"
    },
    {
      "cell_type": "markdown",
      "metadata": {
        "id": "lkEQOecuxMGr"
      },
      "source": [
        "### SQL Left Join\n",
        "\n",
        "The `LEFT JOIN` keyword returns all records from the left table (`cities`), and the matched records from the right table (`countries`). The result contains 1,249 rows, the same number of rows as the `cities` table."
      ],
      "id": "lkEQOecuxMGr"
    },
    {
      "cell_type": "code",
      "execution_count": null,
      "metadata": {
        "tags": [
          "hide-output"
        ],
        "id": "UronF-2jxMGr"
      },
      "outputs": [],
      "source": [
        "%%sql\n",
        "\n",
        "SELECT * FROM cities LEFT JOIN countries ON cities.country = countries.\"Alpha3_code\";"
      ],
      "id": "UronF-2jxMGr"
    },
    {
      "cell_type": "markdown",
      "metadata": {
        "id": "u4j9Ku_9xMGr"
      },
      "source": [
        "### SQL Right Join\n",
        "\n",
        "The `RIGHT JOIN` keyword returns all records from the right table (`countries`), and the matched records from the left table (`cities`). The result contains 1,291 rows."
      ],
      "id": "u4j9Ku_9xMGr"
    },
    {
      "cell_type": "code",
      "execution_count": null,
      "metadata": {
        "tags": [
          "hide-output"
        ],
        "id": "Q5rxlRgexMGr"
      },
      "outputs": [],
      "source": [
        "%%sql\n",
        "\n",
        "SELECT * FROM cities RIGHT JOIN countries ON cities.country = countries.\"Alpha3_code\";"
      ],
      "id": "Q5rxlRgexMGr"
    },
    {
      "cell_type": "markdown",
      "metadata": {
        "id": "pfpb6JAlxMGr"
      },
      "source": [
        "### SQL Full Join\n",
        "\n",
        "The `FULL JOIN` keyword returns all records when there is a match in either left or right table. The result contains 1,296 rows."
      ],
      "id": "pfpb6JAlxMGr"
    },
    {
      "cell_type": "code",
      "execution_count": null,
      "metadata": {
        "tags": [
          "hide-output"
        ],
        "id": "Kpad6SPUxMGr"
      },
      "outputs": [],
      "source": [
        "%%sql\n",
        "\n",
        "SELECT * FROM cities FULL JOIN countries ON cities.country = countries.\"Alpha3_code\";"
      ],
      "id": "Kpad6SPUxMGr"
    },
    {
      "cell_type": "markdown",
      "metadata": {
        "id": "XwozuEEKxMGr"
      },
      "source": [
        "### SQL Union\n",
        "\n",
        "The `UNION` operator is used to combine the result-set of two or more `SELECT` statements."
      ],
      "id": "XwozuEEKxMGr"
    },
    {
      "cell_type": "code",
      "execution_count": null,
      "metadata": {
        "tags": [
          "hide-output"
        ],
        "id": "4y4t2m0nxMGr"
      },
      "outputs": [],
      "source": [
        "%%sql\n",
        "\n",
        "SELECT country FROM cities\n",
        "UNION\n",
        "SELECT \"Alpha3_code\" FROM countries;"
      ],
      "id": "4y4t2m0nxMGr"
    },
    {
      "cell_type": "markdown",
      "metadata": {
        "id": "gL4YQFv_xMGr"
      },
      "source": [
        "## Aggregation\n",
        "\n",
        "### Group By\n",
        "\n",
        "The `GROUP BY` statement groups rows that have the same values into summary rows, like \"find the number of cities in each country\".\n",
        "\n",
        "The `GROUP BY` statement is often used with aggregate functions (`COUNT`, `MAX`, `MIN`, `SUM`, `AVG`) to group the result-set by one or more columns."
      ],
      "id": "gL4YQFv_xMGr"
    },
    {
      "cell_type": "code",
      "execution_count": null,
      "metadata": {
        "scrolled": true,
        "tags": [
          "hide-output"
        ],
        "id": "ed_5yrxOxMGr"
      },
      "outputs": [],
      "source": [
        "%%sql\n",
        "\n",
        "SELECT COUNT(name), country\n",
        "FROM cities\n",
        "GROUP BY country\n",
        "ORDER BY COUNT(name) DESC;"
      ],
      "id": "ed_5yrxOxMGr"
    },
    {
      "cell_type": "code",
      "execution_count": null,
      "metadata": {
        "tags": [
          "hide-output"
        ],
        "id": "TqjOlpvsxMGr"
      },
      "outputs": [],
      "source": [
        "%%sql\n",
        "\n",
        "SELECT countries.\"Country\", COUNT(name)\n",
        "FROM cities\n",
        "LEFT JOIN countries ON cities.country = countries.\"Alpha3_code\"\n",
        "GROUP BY countries.\"Country\"\n",
        "ORDER BY COUNT(name) DESC;"
      ],
      "id": "TqjOlpvsxMGr"
    },
    {
      "cell_type": "markdown",
      "metadata": {
        "id": "uqwBEdcnxMGr"
      },
      "source": [
        "### Having\n",
        "\n",
        "The `HAVING` clause was added to SQL because the `WHERE` keyword could not be used with aggregate functions.\n",
        "\n",
        "For example, to select countries with more than 40 cities:"
      ],
      "id": "uqwBEdcnxMGr"
    },
    {
      "cell_type": "code",
      "execution_count": null,
      "metadata": {
        "id": "RWcZBvlAxMGr"
      },
      "outputs": [],
      "source": [
        "%%sql\n",
        "\n",
        "SELECT COUNT(name), country\n",
        "FROM cities\n",
        "GROUP BY country\n",
        "HAVING COUNT(name) > 40\n",
        "ORDER BY COUNT(name) DESC;"
      ],
      "id": "RWcZBvlAxMGr"
    },
    {
      "cell_type": "code",
      "execution_count": null,
      "metadata": {
        "id": "tdLwGMAHxMGs"
      },
      "outputs": [],
      "source": [
        "%%sql\n",
        "\n",
        "SELECT countries.\"Country\", COUNT(name)\n",
        "FROM cities\n",
        "LEFT JOIN countries ON cities.country = countries.\"Alpha3_code\"\n",
        "GROUP BY countries.\"Country\"\n",
        "HAVING COUNT(name) > 40\n",
        "ORDER BY COUNT(name) DESC;"
      ],
      "id": "tdLwGMAHxMGs"
    },
    {
      "cell_type": "markdown",
      "metadata": {
        "id": "LGvAgOI-xMGs"
      },
      "source": [
        "## Conditional statements\n",
        "\n",
        "The `CASE` statement goes through conditions and returns a value when the first condition is met (like an `IF-THEN-ELSE` statement). So, once a condition is true, it will stop reading and return the result. If no conditions are true, it returns the value in the `ELSE` clause.\n",
        "\n",
        "For example, to divide cities into 3 groups based on their population:"
      ],
      "id": "LGvAgOI-xMGs"
    },
    {
      "cell_type": "code",
      "execution_count": null,
      "metadata": {
        "scrolled": false,
        "tags": [
          "hide-output"
        ],
        "id": "pTyFrrBfxMGs"
      },
      "outputs": [],
      "source": [
        "%%sql\n",
        "\n",
        "SELECT name, population,\n",
        "CASE\n",
        "    WHEN population > 10000000 THEN 'Megacity'\n",
        "    WHEN population > 1000000 THEN 'Large city'\n",
        "    ELSE 'Small city'\n",
        "END AS category\n",
        "FROM cities;"
      ],
      "id": "pTyFrrBfxMGs"
    },
    {
      "cell_type": "markdown",
      "metadata": {
        "id": "uTFJF404xMGs"
      },
      "source": [
        "## Saving results\n",
        "\n",
        "You can save the results of a query to a new table using the `CREATE TABLE AS` statement."
      ],
      "id": "uTFJF404xMGs"
    },
    {
      "cell_type": "code",
      "execution_count": null,
      "metadata": {
        "id": "jekzQWgRxMGs"
      },
      "outputs": [],
      "source": [
        "%%sql\n",
        "\n",
        "CREATE TABLE cities2 AS SELECT * FROM cities;"
      ],
      "id": "jekzQWgRxMGs"
    },
    {
      "cell_type": "markdown",
      "metadata": {
        "id": "AsHND004xMGs"
      },
      "source": [
        "Show the new table content."
      ],
      "id": "AsHND004xMGs"
    },
    {
      "cell_type": "code",
      "execution_count": null,
      "metadata": {
        "id": "dgXvGDjjxMGs"
      },
      "outputs": [],
      "source": [
        "%%sql\n",
        "\n",
        "FROM cities2;"
      ],
      "id": "dgXvGDjjxMGs"
    },
    {
      "cell_type": "markdown",
      "metadata": {
        "id": "s99yvAd1xMGs"
      },
      "source": [
        "Use the `DROP TABLE` statement to delete the table."
      ],
      "id": "s99yvAd1xMGs"
    },
    {
      "cell_type": "code",
      "execution_count": null,
      "metadata": {
        "id": "vS73NHzhxMGs"
      },
      "outputs": [],
      "source": [
        "%%sql\n",
        "\n",
        "DROP TABLE IF EXISTS cities_usa;\n",
        "CREATE TABLE cities_usa AS (SELECT * FROM cities WHERE country = 'USA');"
      ],
      "id": "vS73NHzhxMGs"
    },
    {
      "cell_type": "code",
      "execution_count": null,
      "metadata": {
        "id": "gvnrLXEwxMGs"
      },
      "outputs": [],
      "source": [
        "%%sql\n",
        "\n",
        "FROM cities_usa;"
      ],
      "id": "gvnrLXEwxMGs"
    },
    {
      "cell_type": "markdown",
      "metadata": {
        "id": "AE46wHrCxMGs"
      },
      "source": [
        "Use the `INSERT INTO` statement to insert rows into a table."
      ],
      "id": "AE46wHrCxMGs"
    },
    {
      "cell_type": "code",
      "execution_count": null,
      "metadata": {
        "id": "yi3OJKrIxMGs"
      },
      "outputs": [],
      "source": [
        "%%sql\n",
        "\n",
        "INSERT INTO cities_usa (SELECT * FROM cities WHERE country = 'CAN');"
      ],
      "id": "yi3OJKrIxMGs"
    },
    {
      "cell_type": "markdown",
      "metadata": {
        "id": "gaQ14CfixMGs"
      },
      "source": [
        "## SQL Comments\n",
        "\n",
        "Comments are used to explain sections of SQL statements, or to prevent execution of SQL statements.\n",
        "\n",
        "\n",
        "### Single line comMents\n",
        "\n",
        "Single line comments start with --.\n",
        "\n",
        "Any text between -- and the end of the line will be ignored (will not be executed).\n",
        "\n",
        "The following example uses a single-line comment as an explanation:"
      ],
      "id": "gaQ14CfixMGs"
    },
    {
      "cell_type": "code",
      "execution_count": null,
      "metadata": {
        "id": "VAvth24TxMGs"
      },
      "outputs": [],
      "source": [
        "%%sql\n",
        "\n",
        "SELECT * FROM cities LIMIT 10 -- This is a comment;"
      ],
      "id": "VAvth24TxMGs"
    },
    {
      "cell_type": "markdown",
      "metadata": {
        "id": "ol4DZ1aAxMGs"
      },
      "source": [
        "### Multi-line comments\n",
        "\n",
        "Multi-line comments start with `/*` and end with `*/`.\n",
        "\n",
        "Any text between `/*` and `*/` will be ignored.\n",
        "\n",
        "The following example uses a multi-line comment as an explanation:"
      ],
      "id": "ol4DZ1aAxMGs"
    },
    {
      "cell_type": "code",
      "execution_count": null,
      "metadata": {
        "id": "dNpQla1vxMGs"
      },
      "outputs": [],
      "source": [
        "%%sql\n",
        "\n",
        "SELECT COUNT(name), country\n",
        "FROM cities\n",
        "/*\n",
        " * Adding Group by\n",
        " * Adding Order by\n",
        " */\n",
        "GROUP BY country\n",
        "ORDER BY COUNT(name) DESC\n",
        "LIMIT 10;"
      ],
      "id": "dNpQla1vxMGs"
    }
  ],
  "metadata": {
    "celltoolbar": "Tags",
    "hide_input": false,
    "kernelspec": {
      "display_name": "Python 3",
      "language": "python",
      "name": "python3"
    },
    "language_info": {
      "codemirror_mode": {
        "name": "ipython",
        "version": 3
      },
      "file_extension": ".py",
      "mimetype": "text/x-python",
      "name": "python",
      "nbconvert_exporter": "python",
      "pygments_lexer": "ipython3",
      "version": "3.9.18"
    },
    "toc": {
      "base_numbering": 1,
      "nav_menu": {},
      "number_sections": true,
      "sideBar": true,
      "skip_h1_title": false,
      "title_cell": "Table of Contents",
      "title_sidebar": "Contents",
      "toc_cell": false,
      "toc_position": {},
      "toc_section_display": true,
      "toc_window_display": false
    },
    "varInspector": {
      "cols": {
        "lenName": 16,
        "lenType": 16,
        "lenVar": 40
      },
      "kernels_config": {
        "python": {
          "delete_cmd_postfix": "",
          "delete_cmd_prefix": "del ",
          "library": "var_list.py",
          "varRefreshCmd": "print(var_dic_list())"
        },
        "r": {
          "delete_cmd_postfix": ") ",
          "delete_cmd_prefix": "rm(",
          "library": "var_list.r",
          "varRefreshCmd": "cat(var_dic_list()) "
        }
      },
      "types_to_exclude": [
        "module",
        "function",
        "builtin_function_or_method",
        "instance",
        "_Feature"
      ],
      "window_display": false
    },
    "colab": {
      "provenance": []
    }
  },
  "nbformat": 4,
  "nbformat_minor": 5
}